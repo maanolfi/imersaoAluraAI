{
  "nbformat": 4,
  "nbformat_minor": 0,
  "metadata": {
    "colab": {
      "provenance": [],
      "collapsed_sections": [
        "yCOH6c015cwt",
        "vpx3L1up6DNJ",
        "So4NYo8v_Ztz"
      ],
      "authorship_tag": "ABX9TyMbqHHijPJS68N3yuVnRdvJ",
      "include_colab_link": true
    },
    "kernelspec": {
      "name": "python3",
      "display_name": "Python 3"
    },
    "language_info": {
      "name": "python"
    }
  },
  "cells": [
    {
      "cell_type": "markdown",
      "metadata": {
        "id": "view-in-github",
        "colab_type": "text"
      },
      "source": [
        "<a href=\"https://colab.research.google.com/github/maanolfi/imersaoAluraAI/blob/main/Aprendendo.ipynb\" target=\"_parent\"><img src=\"https://colab.research.google.com/assets/colab-badge.svg\" alt=\"Open In Colab\"/></a>"
      ]
    },
    {
      "cell_type": "markdown",
      "source": [
        "### Instala o Gemini = generative AI  e Youtube Transcript"
      ],
      "metadata": {
        "id": "fqpiIp7BE-pD"
      }
    },
    {
      "cell_type": "code",
      "execution_count": 1,
      "metadata": {
        "id": "GaMD52eMCrlT"
      },
      "outputs": [],
      "source": [
        "!pip install -q -U google-generativeai"
      ]
    },
    {
      "cell_type": "code",
      "source": [
        "!pip install youtube-transcript-api"
      ],
      "metadata": {
        "colab": {
          "base_uri": "https://localhost:8080/"
        },
        "id": "yFVRBQsE0amt",
        "outputId": "4a23b2d4-4e7d-41c6-d50c-9c817d74d269"
      },
      "execution_count": 2,
      "outputs": [
        {
          "output_type": "stream",
          "name": "stdout",
          "text": [
            "Requirement already satisfied: youtube-transcript-api in /usr/local/lib/python3.10/dist-packages (0.6.2)\n",
            "Requirement already satisfied: requests in /usr/local/lib/python3.10/dist-packages (from youtube-transcript-api) (2.31.0)\n",
            "Requirement already satisfied: charset-normalizer<4,>=2 in /usr/local/lib/python3.10/dist-packages (from requests->youtube-transcript-api) (3.3.2)\n",
            "Requirement already satisfied: idna<4,>=2.5 in /usr/local/lib/python3.10/dist-packages (from requests->youtube-transcript-api) (3.7)\n",
            "Requirement already satisfied: urllib3<3,>=1.21.1 in /usr/local/lib/python3.10/dist-packages (from requests->youtube-transcript-api) (2.0.7)\n",
            "Requirement already satisfied: certifi>=2017.4.17 in /usr/local/lib/python3.10/dist-packages (from requests->youtube-transcript-api) (2024.2.2)\n"
          ]
        }
      ]
    },
    {
      "cell_type": "markdown",
      "source": [
        "# Instala bibliotecas úteis para o projeto"
      ],
      "metadata": {
        "id": "yCOH6c015cwt"
      }
    },
    {
      "cell_type": "code",
      "source": [
        "import pathlib\n",
        "import textwrap\n",
        "\n",
        "import google.generativeai as genai\n",
        "\n",
        "from IPython.display import display\n",
        "from IPython.display import Markdown\n",
        "\n",
        "\n",
        "def to_markdown(text):\n",
        "  text = text.replace('•', '  *')\n",
        "  return Markdown(textwrap.indent(text, '> ', predicate=lambda _: True))"
      ],
      "metadata": {
        "id": "pdEyrFYY5sN_"
      },
      "execution_count": 28,
      "outputs": []
    },
    {
      "cell_type": "code",
      "source": [
        "# Used to securely store your API key\n",
        "from google.colab import userdata"
      ],
      "metadata": {
        "id": "FwjDtYOe59xc"
      },
      "execution_count": 4,
      "outputs": []
    },
    {
      "cell_type": "markdown",
      "source": [
        "# Adicionando sua API key com segurança e inicia o modelo do Gemini"
      ],
      "metadata": {
        "id": "vpx3L1up6DNJ"
      }
    },
    {
      "cell_type": "markdown",
      "source": [
        "Armazene variáveis de ambiente, caminhos de arquivos ou chaves para configurar o código. Os valores armazenados aqui são particulares e visíveis apenas para você e os notebooks escolhidos.\n",
        "\n",
        "O nome da chave secreta não pode ter espaços."
      ],
      "metadata": {
        "id": "HHmi2U1c6uhu"
      }
    },
    {
      "cell_type": "code",
      "source": [
        "GOOGLE_API_KEY=userdata.get('GOOGLE_API_KEY')\n",
        "\n",
        "genai.configure(api_key=GOOGLE_API_KEY)"
      ],
      "metadata": {
        "id": "5wRrU3Cx6Hh1"
      },
      "execution_count": 5,
      "outputs": []
    },
    {
      "cell_type": "markdown",
      "source": [
        "Listando e selecionando o modelo do Gemini"
      ],
      "metadata": {
        "id": "J4-Gy26u7Mgx"
      }
    },
    {
      "cell_type": "code",
      "source": [
        "for m in genai.list_models():\n",
        "  if 'generateContent' in m.supported_generation_methods:\n",
        "    print(m.name)"
      ],
      "metadata": {
        "colab": {
          "base_uri": "https://localhost:8080/",
          "height": 142
        },
        "id": "4VwBB3Hf7EPR",
        "outputId": "2c25ad53-1d17-475f-bae2-711fad661a4b"
      },
      "execution_count": 6,
      "outputs": [
        {
          "output_type": "stream",
          "name": "stdout",
          "text": [
            "models/gemini-1.0-pro\n",
            "models/gemini-1.0-pro-001\n",
            "models/gemini-1.0-pro-latest\n",
            "models/gemini-1.0-pro-vision-latest\n",
            "models/gemini-1.5-pro-latest\n",
            "models/gemini-pro\n",
            "models/gemini-pro-vision\n"
          ]
        }
      ]
    },
    {
      "cell_type": "code",
      "source": [
        "model = genai.GenerativeModel('gemini-pro')"
      ],
      "metadata": {
        "id": "FiMOCyZ47TTk"
      },
      "execution_count": 6,
      "outputs": []
    },
    {
      "cell_type": "markdown",
      "source": [
        "# Inicializando o chat"
      ],
      "metadata": {
        "id": "RplaBW9D8qwC"
      }
    },
    {
      "cell_type": "code",
      "source": [
        "chat = model.start_chat(history=[])\n",
        "chat"
      ],
      "metadata": {
        "colab": {
          "base_uri": "https://localhost:8080/"
        },
        "id": "j4o1788u8uUk",
        "outputId": "d60d7dce-ce2c-461b-89c6-8358898c0673"
      },
      "execution_count": 7,
      "outputs": [
        {
          "output_type": "execute_result",
          "data": {
            "text/plain": [
              "ChatSession(\n",
              "    model=genai.GenerativeModel(\n",
              "        model_name='models/gemini-pro',\n",
              "        generation_config={},\n",
              "        safety_settings={},\n",
              "        tools=None,\n",
              "        system_instruction=None,\n",
              "    ),\n",
              "    history=[]\n",
              ")"
            ]
          },
          "metadata": {},
          "execution_count": 7
        }
      ]
    },
    {
      "cell_type": "code",
      "source": [
        "response = chat.send_message(\"Me fale um pouco sobre a imersão sobre IA da Alura.\")"
      ],
      "metadata": {
        "id": "kiMTrIOQCqXk"
      },
      "execution_count": null,
      "outputs": []
    },
    {
      "cell_type": "markdown",
      "source": [
        "# Pegando o resumo das aulas"
      ],
      "metadata": {
        "id": "YcIzzeljkhI5"
      }
    },
    {
      "cell_type": "code",
      "source": [
        "from youtube_transcript_api import YouTubeTranscriptApi\n",
        "## Aula 01\n",
        "chat01 = model.start_chat(history=[])\n",
        "outls = []\n",
        "tx = YouTubeTranscriptApi.get_transcript('U0U78uwGtLQ',languages=['pt'])\n",
        "for i in tx:\n",
        "  outls.append(i['text'])\n",
        "\n",
        "my_string = \", \".join(outls)\n",
        "\n",
        "response01 = chat01.send_message(my_string)\n",
        "aula01 = response01.text"
      ],
      "metadata": {
        "id": "ZemG4wt4kj0e"
      },
      "execution_count": null,
      "outputs": []
    },
    {
      "cell_type": "code",
      "source": [
        "result = genai.embed_content(model = 'models/embedding-001', content = response.candidates[0].content)"
      ],
      "metadata": {
        "id": "_okOHMPrCgDq"
      },
      "execution_count": 33,
      "outputs": []
    },
    {
      "cell_type": "code",
      "source": [
        "from youtube_transcript_api import YouTubeTranscriptApi\n",
        "## Aula 02\n",
        "chat02 = model.start_chat(history=[])\n",
        "outls = []\n",
        "tx = YouTubeTranscriptApi.get_transcript('1TQp_g2ScGg',languages=['pt'])\n",
        "for i in tx:\n",
        "  outls.append(i['text'])\n",
        "\n",
        "my_string = \", \".join(outls)\n",
        "\n",
        "response02 = chat02.send_message(my_string)\n",
        "aula02 = response02.text"
      ],
      "metadata": {
        "id": "8I_p-rQlsvRH"
      },
      "execution_count": 10,
      "outputs": []
    },
    {
      "cell_type": "code",
      "source": [
        "from youtube_transcript_api import YouTubeTranscriptApi\n",
        "## Aula 03\n",
        "chat03 = model.start_chat(history=[])\n",
        "outls = []\n",
        "tx = YouTubeTranscriptApi.get_transcript('kk236Kcm_p4',languages=['pt'])\n",
        "for i in tx:\n",
        "  outls.append(i['text'])\n",
        "\n",
        "my_string = \", \".join(outls)\n",
        "\n",
        "response03 = chat03.send_message(my_string)\n",
        "aula03 = response03.text"
      ],
      "metadata": {
        "id": "AeDClYu21ICN"
      },
      "execution_count": 11,
      "outputs": []
    },
    {
      "cell_type": "code",
      "source": [
        "from youtube_transcript_api import YouTubeTranscriptApi\n",
        "## Aula 04\n",
        "chat04 = model.start_chat(history=[])\n",
        "outls = []\n",
        "tx = YouTubeTranscriptApi.get_transcript('iwt4bOIHy7s',languages=['pt'])\n",
        "for i in tx:\n",
        "  outls.append(i['text'])\n",
        "\n",
        "my_string = \", \".join(outls)\n",
        "\n",
        "response04 = chat04.send_message(my_string)\n",
        "aula04 = response04.text"
      ],
      "metadata": {
        "id": "U-9Z92kX2TzZ"
      },
      "execution_count": 12,
      "outputs": []
    },
    {
      "cell_type": "code",
      "source": [
        "from youtube_transcript_api import YouTubeTranscriptApi\n",
        "## Aula 05\n",
        "chat05 = model.start_chat(history=[])\n",
        "outls = []\n",
        "tx = YouTubeTranscriptApi.get_transcript('Ih64Ad5eots',languages=['pt'])\n",
        "for i in tx:\n",
        "  outls.append(i['text'])\n",
        "\n",
        "my_string = \", \".join(outls)\n",
        "\n",
        "response05 = chat05.send_message(my_string)\n",
        "aula05 = response05.text"
      ],
      "metadata": {
        "id": "5Ai6TQj02eHH"
      },
      "execution_count": 13,
      "outputs": []
    },
    {
      "cell_type": "markdown",
      "source": [
        "# Introduzindo o assunto: Imersao AI da alura"
      ],
      "metadata": {
        "id": "So4NYo8v_Ztz"
      }
    },
    {
      "cell_type": "code",
      "source": [
        "chat.send_message(\"Me fale um pouco sobre a imersão sobre IA da Alura.\")\n",
        "chat.send_message(aula01)\n",
        "chat.send_message(aula02)\n",
        "chat.send_message(aula03)\n",
        "chat.send_message(aula04)\n",
        "chat.send_message(aula05)"
      ],
      "metadata": {
        "id": "VgbSStJR_gBG"
      },
      "execution_count": null,
      "outputs": []
    },
    {
      "cell_type": "code",
      "source": [
        "result = chat.send_message(\"Com base nos resumos das 5 aulas, a imersão foi bem sucedida\")\n",
        "to_markdown(result.text)"
      ],
      "metadata": {
        "colab": {
          "base_uri": "https://localhost:8080/",
          "height": 167
        },
        "id": "0Bp2Qx1_30BD",
        "outputId": "553cd736-faad-4421-ac7b-40cfa14c5fbd"
      },
      "execution_count": 15,
      "outputs": [
        {
          "output_type": "execute_result",
          "data": {
            "text/plain": [
              "<IPython.core.display.Markdown object>"
            ],
            "text/markdown": "> Sim, com base nos resumos das 5 aulas, a imersão foi bem sucedida.\n> \n> Os resumos mostram que a imersão cobriu uma ampla gama de tópicos relacionados à IA, desde conceitos fundamentais até aplicações práticas. As aulas foram ministradas por especialistas do setor e incluíram atividades práticas e desafios para ajudar os alunos a aplicar seu conhecimento.\n> \n> Além disso, a imersão forneceu recursos adicionais, como acesso ao Google AI Studio e à comunidade do Google Cloud Innovators, para apoiar os alunos em seu aprendizado contínuo.\n> \n> Em geral, os resumos sugerem que a imersão foi bem organizada, envolvente e eficaz em fornecer aos alunos uma base sólida em IA."
          },
          "metadata": {},
          "execution_count": 15
        }
      ]
    },
    {
      "cell_type": "code",
      "source": [
        "result = chat.send_message(\"Como poderia ser melhorada? dicas de conteudos, ferramentas, organizacao.\")\n",
        "to_markdown(result.text)"
      ],
      "metadata": {
        "colab": {
          "base_uri": "https://localhost:8080/",
          "height": 510
        },
        "id": "AY1kF2sN6e6l",
        "outputId": "e2f3bf3f-60bf-4b56-c92b-64012301ed8b"
      },
      "execution_count": 16,
      "outputs": [
        {
          "output_type": "execute_result",
          "data": {
            "text/plain": [
              "<IPython.core.display.Markdown object>"
            ],
            "text/markdown": "> Aqui estão algumas dicas sobre como a imersão poderia ser melhorada em termos de conteúdo, ferramentas e organização:\n> \n> **Conteúdo:**\n> \n> * **Incluir mais exemplos práticos:** Fornecer mais estudos de caso e exemplos do mundo real de como a IA está sendo usada em diferentes setores.\n> * **Abordar tópicos avançados:** Explorar tópicos mais avançados de IA, como aprendizado profundo, processamento de linguagem natural e visão computacional.\n> * **Fornecer recursos adicionais:** Oferecer recursos adicionais, como artigos, tutoriais e vídeos, para os alunos que desejam se aprofundar em tópicos específicos.\n> \n> **Ferramentas:**\n> \n> * **Integrar mais ferramentas:** Integrar mais ferramentas e bibliotecas populares de IA, como TensorFlow, PyTorch e scikit-learn, na imersão.\n> * **Fornecer acesso a recursos computacionais:** Fornecer aos alunos acesso a recursos computacionais, como GPUs ou serviços de nuvem, para treinamento de modelos e execução de tarefas de IA.\n> \n> **Organização:**\n> \n> * **Dividir a imersão em módulos menores:** Dividir a imersão em módulos menores e mais gerenciáveis para tornar o aprendizado mais fácil de digerir.\n> * **Fornecer mapas mentais ou resumos:** Fornecer mapas mentais ou resumos de cada aula para ajudar os alunos a visualizar e reter os conceitos principais.\n> * **Criar um fórum ou grupo de discussão:** Criar um fórum ou grupo de discussão para os alunos se conectarem, compartilharem ideias e obterem ajuda com as tarefas.\n> \n> Além disso, aqui estão algumas dicas adicionais:\n> \n> * **Obter feedback dos alunos:** Coletar feedback dos alunos após a imersão para identificar áreas que podem ser melhoradas.\n> * **Manter o conteúdo atualizado:** Manter o conteúdo atualizado com os avanços mais recentes no campo da IA.\n> * **Fornecer oportunidades de networking:** Oferecer oportunidades de networking para os alunos se conectarem com especialistas do setor e outros profissionais de IA."
          },
          "metadata": {},
          "execution_count": 16
        }
      ]
    },
    {
      "cell_type": "code",
      "source": [
        "result = chat.send_message(\"Quais os assuntos mais importantes, aqueles que nao posso esquecer.\")\n",
        "to_markdown(result.text)"
      ],
      "metadata": {
        "colab": {
          "base_uri": "https://localhost:8080/",
          "height": 691
        },
        "id": "gzn_d2p_7DO6",
        "outputId": "1fcdadda-159a-4753-e439-2c20a7fba4c8"
      },
      "execution_count": 17,
      "outputs": [
        {
          "output_type": "execute_result",
          "data": {
            "text/plain": [
              "<IPython.core.display.Markdown object>"
            ],
            "text/markdown": "> Os assuntos mais importantes da imersão sobre IA da Alura, que você não deve esquecer, incluem:\n> \n> **Conceitos Fundamentais:**\n> \n> * Definição e histórico da Inteligência Artificial\n> * Tipos de IA (Aprendizado de Máquina, Aprendizado Profundo, etc.)\n> * Algoritmos e técnicas de IA\n> * Ética e impactos da IA\n> \n> **Aprendizado de Máquina:**\n> \n> * Algoritmos de Aprendizado Supervisionado e Não Supervisionado\n> * Modelagem Preditiva e Classificação\n> * Avaliação e Otimização de Modelos\n> * Aprendizado por Reforço\n> \n> **Aprendizado Profundo:**\n> \n> * Redes Neurais e Arquiteturas de Aprendizado Profundo\n> * Treinamento e Avaliação de Modelos de Aprendizado Profundo\n> * Aplicações de Aprendizado Profundo (visão computacional, processamento de linguagem natural, etc.)\n> \n> **Processamento de Linguagem Natural:**\n> \n> * Técnicas de Processamento de Texto\n> * Análise de Sentimento e Geração de Linguagem\n> * Modelos de Linguagem Grandes\n> \n> **Visão Computacional:**\n> \n> * Técnicas de Processamento de Imagem\n> * Detecção e Reconhecimento de Objetos\n> * Visão Computacional para Autonomia e Robótica\n> \n> **Engenharia de Prompt:**\n> \n> * Técnicas para criar prompts eficazes para modelos de IA\n> * Prompt Engineering para diferentes tarefas (tradução, resumo, geração de código)\n> \n> **Aplicações Práticas da IA:**\n> \n> * Casos de uso da IA em diferentes indústrias\n> * Desenvolvimento e implantação de soluções baseadas em IA\n> * Desafios e oportunidades da IA no mundo real\n> \n> Compreender e lembrar esses assuntos essenciais fornecerá a você uma base sólida em Inteligência Artificial e permitirá que você aplique seus conhecimentos para resolver problemas do mundo real e criar soluções inovadoras."
          },
          "metadata": {},
          "execution_count": 17
        }
      ]
    },
    {
      "cell_type": "code",
      "source": [
        "result = chat.send_message(\"Quem foi os instrutores?\")\n",
        "to_markdown(result.text)"
      ],
      "metadata": {
        "colab": {
          "base_uri": "https://localhost:8080/",
          "height": 225
        },
        "id": "Xt8njV-a7YKG",
        "outputId": "b52575fb-d11c-4d7f-cd77-1a697a772520"
      },
      "execution_count": 18,
      "outputs": [
        {
          "output_type": "execute_result",
          "data": {
            "text/plain": [
              "<IPython.core.display.Markdown object>"
            ],
            "text/markdown": "> Os instrutores da Imersão sobre IA da Alura são:\n> \n> * **Paulo Silveira:** Cofundador e CEO da Alura\n> * **Luciano Martins:** Developer Advocate de IA do Google\n> \n> **Paulo Silveira** é um engenheiro de software e empreendedor brasileiro. Ele é cofundador e CEO da Alura, uma plataforma de educação online focada em tecnologia. Paulo é apaixonado por educação e acredita que todos deveriam ter acesso a educação de qualidade.\n> \n> **Luciano Martins** é um Developer Advocate de IA do Google. Ele tem mais de 10 anos de experiência em desenvolvimento de software e aprendizado de máquina. Luciano é apaixonado por compartilhar seu conhecimento sobre IA e ajudar outras pessoas a aprender e aplicar essa tecnologia.\n> \n> Ambos os instrutores têm amplo conhecimento e experiência em Inteligência Artificial e estão comprometidos em fornecer aos alunos uma experiência de aprendizado envolvente e valiosa."
          },
          "metadata": {},
          "execution_count": 18
        }
      ]
    },
    {
      "cell_type": "code",
      "source": [
        "prompt = input('Escreva uma pergunta: ')\n",
        "response = chat.send_message(prompt)\n",
        "to_markdown(response.text)"
      ],
      "metadata": {
        "id": "iejgfKjt73ET"
      },
      "execution_count": null,
      "outputs": []
    }
  ]
}